{
 "cells": [
  {
   "cell_type": "code",
   "execution_count": 7,
   "metadata": {},
   "outputs": [],
   "source": [
    "import os\n",
    "import time\n",
    "from selenium import webdriver\n",
    "from selenium.webdriver.chrome.options import Options\n",
    "from selenium.webdriver.common.by import By\n",
    "from selenium.webdriver.support.ui import WebDriverWait\n",
    "from selenium.webdriver.support import expected_conditions as EC\n",
    "from selenium.webdriver.common.action_chains import ActionChains\n",
    "from selenium.common.exceptions import TimeoutException,NoSuchElementException\n",
    "from selenium.webdriver.common.keys import Keys"
   ]
  },
  {
   "cell_type": "code",
   "execution_count": 17,
   "metadata": {},
   "outputs": [],
   "source": [
    "def job():\n",
    "    #set the full path for the download directory.\n",
    "    download_directory = os.path.join(os.getcwd(),'NewsToday') #(getcwd->get current working directory)\n",
    "\n",
    "    options = webdriver.ChromeOptions()\n",
    "\n",
    "    prefs = {\n",
    "        'download_default_directory': download_directory,\n",
    "        'plugins.always_open_pdf_externally': True\n",
    "    }\n",
    "    options.add_experimental_option('prefs', prefs)\n",
    "\n",
    "    # option.add_argument(\"--headless\")\n",
    "\n",
    "    driver = webdriver.Chrome(options = options)\n",
    "    driver.get(\"https://epaper.gorkhapatraonline.com/single/gorkhapatra\")\n",
    "\n",
    "    try:\n",
    "        #wait for the pdf link to be present.\n",
    "        pdf_links = WebDriverWait(driver, 20).until(EC.presence_of_all_elements_located((By.XPATH, \"//a[contains(@href,'.pdf')]\")))\n",
    "\n",
    "        for pdf_link in pdf_links:\n",
    "            try:\n",
    "                #Open the link in new tab.\n",
    "                ActionChains(driver).key_down(Keys.CONTROL).click(pdf_link).key_up(Keys.CONTROL).perform()\n",
    "\n",
    "                # key_down---> key press\n",
    "                # key_up-----> key release\n",
    "\n",
    "                # Switch to the new opened pdf link.\n",
    "                driver.switch_to.window(driver.window_handles[-1])   # -1 ---> recently opened.(As in List mah -1 --> last ko.)\n",
    "\n",
    "                #wait until download button is visible.\n",
    "                download_button = WebDriverWait(driver, 10).until(EC.visibility_of_all_elements_located((By.XPATH, \"//button[@id='download' and @title = 'Save']\")))\n",
    "\n",
    "                # Use pyautogui to click on the Download button (ActionChain can also be used bur=t sometimes it maynot work so we use pyautogui)\n",
    "                ActionChains(driver).move_to_element(download_button).click().perform()\n",
    "\n",
    "                #Allow sometime for download to complete.\n",
    "                time.sleep(15)\n",
    "\n",
    "            except (TimeoutException, NoSuchElementException) as e:\n",
    "                print(f\"Error Processing PDF Link: {e}\")\n",
    "\n",
    "\n",
    "            finally:\n",
    "                #close all current tab\n",
    "                driver.close()\n",
    "\n",
    "                #switch back to main tab\n",
    "                driver.switch_to.window(driver.window_handles[0])\n",
    "\n",
    "    finally:\n",
    "        driver.quit()"
   ]
  },
  {
   "cell_type": "code",
   "execution_count": 20,
   "metadata": {},
   "outputs": [
    {
     "ename": "AttributeError",
     "evalue": "move_to requires a WebElement",
     "output_type": "error",
     "traceback": [
      "\u001b[1;31m---------------------------------------------------------------------------\u001b[0m",
      "\u001b[1;31mAttributeError\u001b[0m                            Traceback (most recent call last)",
      "Cell \u001b[1;32mIn[20], line 2\u001b[0m\n\u001b[0;32m      1\u001b[0m \u001b[38;5;66;03m# Execute the function directory.\u001b[39;00m\n\u001b[1;32m----> 2\u001b[0m \u001b[43mjob\u001b[49m\u001b[43m(\u001b[49m\u001b[43m)\u001b[49m\n",
      "Cell \u001b[1;32mIn[17], line 37\u001b[0m, in \u001b[0;36mjob\u001b[1;34m()\u001b[0m\n\u001b[0;32m     34\u001b[0m download_button \u001b[38;5;241m=\u001b[39m WebDriverWait(driver, \u001b[38;5;241m10\u001b[39m)\u001b[38;5;241m.\u001b[39muntil(EC\u001b[38;5;241m.\u001b[39mvisibility_of_all_elements_located((By\u001b[38;5;241m.\u001b[39mXPATH, \u001b[38;5;124m\"\u001b[39m\u001b[38;5;124m//button[@id=\u001b[39m\u001b[38;5;124m'\u001b[39m\u001b[38;5;124mdownload\u001b[39m\u001b[38;5;124m'\u001b[39m\u001b[38;5;124m and @title = \u001b[39m\u001b[38;5;124m'\u001b[39m\u001b[38;5;124mSave\u001b[39m\u001b[38;5;124m'\u001b[39m\u001b[38;5;124m]\u001b[39m\u001b[38;5;124m\"\u001b[39m)))\n\u001b[0;32m     36\u001b[0m \u001b[38;5;66;03m# Use pyautogui to click on the Download button (ActionChain can also be used bur=t sometimes it maynot work so we use pyautogui)\u001b[39;00m\n\u001b[1;32m---> 37\u001b[0m \u001b[43mActionChains\u001b[49m\u001b[43m(\u001b[49m\u001b[43mdriver\u001b[49m\u001b[43m)\u001b[49m\u001b[38;5;241;43m.\u001b[39;49m\u001b[43mmove_to_element\u001b[49m\u001b[43m(\u001b[49m\u001b[43mdownload_button\u001b[49m\u001b[43m)\u001b[49m\u001b[38;5;241m.\u001b[39mclick()\u001b[38;5;241m.\u001b[39mperform()\n\u001b[0;32m     39\u001b[0m \u001b[38;5;66;03m#Allow sometime for download to complete.\u001b[39;00m\n\u001b[0;32m     40\u001b[0m time\u001b[38;5;241m.\u001b[39msleep(\u001b[38;5;241m15\u001b[39m)\n",
      "File \u001b[1;32mc:\\Users\\ranaa\\anaconda3\\envs\\Tensorflow\\lib\\site-packages\\selenium\\webdriver\\common\\action_chains.py:253\u001b[0m, in \u001b[0;36mActionChains.move_to_element\u001b[1;34m(self, to_element)\u001b[0m\n\u001b[0;32m    246\u001b[0m \u001b[38;5;28;01mdef\u001b[39;00m \u001b[38;5;21mmove_to_element\u001b[39m(\u001b[38;5;28mself\u001b[39m, to_element: WebElement) \u001b[38;5;241m-\u001b[39m\u001b[38;5;241m>\u001b[39m ActionChains:\n\u001b[0;32m    247\u001b[0m \u001b[38;5;250m    \u001b[39m\u001b[38;5;124;03m\"\"\"Moving the mouse to the middle of an element.\u001b[39;00m\n\u001b[0;32m    248\u001b[0m \n\u001b[0;32m    249\u001b[0m \u001b[38;5;124;03m    :Args:\u001b[39;00m\n\u001b[0;32m    250\u001b[0m \u001b[38;5;124;03m     - to_element: The WebElement to move to.\u001b[39;00m\n\u001b[0;32m    251\u001b[0m \u001b[38;5;124;03m    \"\"\"\u001b[39;00m\n\u001b[1;32m--> 253\u001b[0m     \u001b[38;5;28;43mself\u001b[39;49m\u001b[38;5;241;43m.\u001b[39;49m\u001b[43mw3c_actions\u001b[49m\u001b[38;5;241;43m.\u001b[39;49m\u001b[43mpointer_action\u001b[49m\u001b[38;5;241;43m.\u001b[39;49m\u001b[43mmove_to\u001b[49m\u001b[43m(\u001b[49m\u001b[43mto_element\u001b[49m\u001b[43m)\u001b[49m\n\u001b[0;32m    254\u001b[0m     \u001b[38;5;28mself\u001b[39m\u001b[38;5;241m.\u001b[39mw3c_actions\u001b[38;5;241m.\u001b[39mkey_action\u001b[38;5;241m.\u001b[39mpause()\n\u001b[0;32m    256\u001b[0m     \u001b[38;5;28;01mreturn\u001b[39;00m \u001b[38;5;28mself\u001b[39m\n",
      "File \u001b[1;32mc:\\Users\\ranaa\\anaconda3\\envs\\Tensorflow\\lib\\site-packages\\selenium\\webdriver\\common\\actions\\pointer_actions.py:88\u001b[0m, in \u001b[0;36mPointerActions.move_to\u001b[1;34m(self, element, x, y, width, height, pressure, tangential_pressure, tilt_x, tilt_y, twist, altitude_angle, azimuth_angle)\u001b[0m\n\u001b[0;32m     72\u001b[0m \u001b[38;5;28;01mdef\u001b[39;00m \u001b[38;5;21mmove_to\u001b[39m(\n\u001b[0;32m     73\u001b[0m     \u001b[38;5;28mself\u001b[39m,\n\u001b[0;32m     74\u001b[0m     element,\n\u001b[1;32m   (...)\u001b[0m\n\u001b[0;32m     85\u001b[0m     azimuth_angle\u001b[38;5;241m=\u001b[39m\u001b[38;5;28;01mNone\u001b[39;00m,\n\u001b[0;32m     86\u001b[0m ):\n\u001b[0;32m     87\u001b[0m     \u001b[38;5;28;01mif\u001b[39;00m \u001b[38;5;129;01mnot\u001b[39;00m \u001b[38;5;28misinstance\u001b[39m(element, WebElement):\n\u001b[1;32m---> 88\u001b[0m         \u001b[38;5;28;01mraise\u001b[39;00m \u001b[38;5;167;01mAttributeError\u001b[39;00m(\u001b[38;5;124m\"\u001b[39m\u001b[38;5;124mmove_to requires a WebElement\u001b[39m\u001b[38;5;124m\"\u001b[39m)\n\u001b[0;32m     90\u001b[0m     \u001b[38;5;28mself\u001b[39m\u001b[38;5;241m.\u001b[39msource\u001b[38;5;241m.\u001b[39mcreate_pointer_move(\n\u001b[0;32m     91\u001b[0m         origin\u001b[38;5;241m=\u001b[39melement,\n\u001b[0;32m     92\u001b[0m         duration\u001b[38;5;241m=\u001b[39m\u001b[38;5;28mself\u001b[39m\u001b[38;5;241m.\u001b[39m_duration,\n\u001b[1;32m   (...)\u001b[0m\n\u001b[0;32m    103\u001b[0m         azimuth_angle\u001b[38;5;241m=\u001b[39mazimuth_angle,\n\u001b[0;32m    104\u001b[0m     )\n\u001b[0;32m    105\u001b[0m     \u001b[38;5;28;01mreturn\u001b[39;00m \u001b[38;5;28mself\u001b[39m\n",
      "\u001b[1;31mAttributeError\u001b[0m: move_to requires a WebElement"
     ]
    }
   ],
   "source": [
    "# Execute the function directory.\n",
    "job()"
   ]
  },
  {
   "cell_type": "code",
   "execution_count": null,
   "metadata": {},
   "outputs": [],
   "source": []
  },
  {
   "cell_type": "code",
   "execution_count": null,
   "metadata": {},
   "outputs": [],
   "source": [
"# The code works fine if chrome webdriver exist and chrome is installed within the pc.:\n",
"\n",
"\n",
    "# Issues that can occur:\n",
    "\n",
    "# Version mismatch between webdriver and Chrome.",
    "\n",
    "# Or, if no chrome is being used by the user,",
"\n",
"# need to make certain changes to get working on Bing or any other browser."
   ]
  },
  {
   "cell_type": "code",
   "execution_count": null,
   "metadata": {},
   "outputs": [],
   "source": []
  },
  {
   "cell_type": "code",
   "execution_count": null,
   "metadata": {},
   "outputs": [],
   "source": []
  },
  {
   "cell_type": "code",
   "execution_count": null,
   "metadata": {},
   "outputs": [],
   "source": []
  },
  {
   "cell_type": "code",
   "execution_count": null,
   "metadata": {},
   "outputs": [],
   "source": []
  },
  {
   "cell_type": "code",
   "execution_count": null,
   "metadata": {},
   "outputs": [],
   "source": []
  },
  {
   "cell_type": "code",
   "execution_count": null,
   "metadata": {},
   "outputs": [],
   "source": []
  }
 ],
 "metadata": {
  "kernelspec": {
   "display_name": "Tensorflow",
   "language": "python",
   "name": "python3"
  },
  "language_info": {
   "codemirror_mode": {
    "name": "ipython",
    "version": 3
   },
   "file_extension": ".py",
   "mimetype": "text/x-python",
   "name": "python",
   "nbconvert_exporter": "python",
   "pygments_lexer": "ipython3",
   "version": "3.9.19"
  }
 },
 "nbformat": 4,
 "nbformat_minor": 2
}
